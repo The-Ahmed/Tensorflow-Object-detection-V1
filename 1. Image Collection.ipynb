{
 "cells": [
  {
   "cell_type": "markdown",
   "metadata": {},
   "source": [
    "# 1. Import Dependencies"
   ]
  },
  {
   "cell_type": "code",
   "execution_count": 1,
   "metadata": {
    "collapsed": true
   },
   "outputs": [
    {
     "name": "stdout",
     "output_type": "stream",
     "text": [
      "Collecting opencv-python\n",
      "  Using cached opencv_python-4.5.5.62-cp36-abi3-win_amd64.whl (35.4 MB)\n",
      "Collecting numpy>=1.17.3\n",
      "  Using cached numpy-1.22.0-cp38-cp38-win_amd64.whl (14.7 MB)\n",
      "Installing collected packages: numpy, opencv-python\n",
      "Successfully installed numpy-1.22.0 opencv-python-4.5.5.62\n"
     ]
    }
   ],
   "source": [
    "!pip install opencv-python"
   ]
  },
  {
   "cell_type": "code",
   "execution_count": 2,
   "metadata": {},
   "outputs": [],
   "source": [
    "# Import opencv\n",
    "import cv2 \n",
    "\n",
    "# Import uuid\n",
    "import uuid\n",
    "\n",
    "# Import Operating System\n",
    "import os\n",
    "\n",
    "# Import time\n",
    "import time"
   ]
  },
  {
   "cell_type": "markdown",
   "metadata": {},
   "source": [
    "# 2. Define Images to Collect"
   ]
  },
  {
   "cell_type": "code",
   "execution_count": 3,
   "metadata": {},
   "outputs": [],
   "source": [
    "labels = ['Forward', 'Looking_Left', 'Looking_Right', 'Looking_Up', 'Looking_Down']\n",
    "number_imgs = 5"
   ]
  },
  {
   "cell_type": "markdown",
   "metadata": {},
   "source": [
    "# 3. Setup Folders "
   ]
  },
  {
   "cell_type": "code",
   "execution_count": 4,
   "metadata": {},
   "outputs": [],
   "source": [
    "IMAGES_PATH = os.path.join('Tensorflow', 'workspace', 'images', 'collectedimages')"
   ]
  },
  {
   "cell_type": "code",
   "execution_count": 6,
   "metadata": {},
   "outputs": [
    {
     "name": "stdout",
     "output_type": "stream",
     "text": [
      "Tensorflow\\workspace\\images\\collectedimages\n"
     ]
    }
   ],
   "source": [
    "print(IMAGES_PATH)"
   ]
  },
  {
   "cell_type": "code",
   "execution_count": 7,
   "metadata": {},
   "outputs": [
    {
     "data": {
      "text/plain": [
       "'nt'"
      ]
     },
     "execution_count": 7,
     "metadata": {},
     "output_type": "execute_result"
    }
   ],
   "source": [
    "os.name"
   ]
  },
  {
   "cell_type": "code",
   "execution_count": 8,
   "metadata": {},
   "outputs": [],
   "source": [
    "if not os.path.exists(IMAGES_PATH):\n",
    "    if os.name == 'posix':\n",
    "        !mkdir -p {IMAGES_PATH}\n",
    "    if os.name == 'nt':\n",
    "         !mkdir {IMAGES_PATH}\n",
    "for label in labels:\n",
    "    path = os.path.join(IMAGES_PATH, label)\n",
    "    if not os.path.exists(path):\n",
    "        !mkdir {path}"
   ]
  },
  {
   "cell_type": "markdown",
   "metadata": {},
   "source": [
    "# 4. Capture Images"
   ]
  },
  {
   "cell_type": "code",
   "execution_count": 9,
   "metadata": {},
   "outputs": [
    {
     "name": "stdout",
     "output_type": "stream",
     "text": [
      "Collecting images for Forward\n",
      "Collecting image 0\n",
      "Collecting image 1\n",
      "Collecting image 2\n",
      "Collecting image 3\n",
      "Collecting image 4\n",
      "Collecting images for Looking_Left\n",
      "Collecting image 0\n",
      "Collecting image 1\n",
      "Collecting image 2\n",
      "Collecting image 3\n",
      "Collecting image 4\n",
      "Collecting images for Looking_Right\n",
      "Collecting image 0\n",
      "Collecting image 1\n",
      "Collecting image 2\n",
      "Collecting image 3\n",
      "Collecting image 4\n",
      "Collecting images for Looking_Up\n",
      "Collecting image 0\n",
      "Collecting image 1\n",
      "Collecting image 2\n",
      "Collecting image 3\n",
      "Collecting image 4\n",
      "Collecting images for Looking_Down\n",
      "Collecting image 0\n",
      "Collecting image 1\n",
      "Collecting image 2\n",
      "Collecting image 3\n",
      "Collecting image 4\n"
     ]
    }
   ],
   "source": [
    "for label in labels:\n",
    "    cap = cv2.VideoCapture(0)\n",
    "    print('Collecting images for {}'.format(label))\n",
    "    time.sleep(5)\n",
    "    for imgnum in range(number_imgs):\n",
    "        print('Collecting image {}'.format(imgnum))\n",
    "        ret, frame = cap.read()\n",
    "        imgname = os.path.join(IMAGES_PATH,label,label+'.'+'{}.jpg'.format(str(uuid.uuid1())))\n",
    "        cv2.imwrite(imgname, frame)\n",
    "        cv2.imshow('frame', frame)\n",
    "        time.sleep(2)\n",
    "\n",
    "        if cv2.waitKey(1) & 0xFF == ord('q'):\n",
    "            break\n",
    "cap.release()\n",
    "cv2.destroyAllWindows()"
   ]
  },
  {
   "cell_type": "markdown",
   "metadata": {},
   "source": [
    "# 5. Image Labelling"
   ]
  },
  {
   "cell_type": "code",
   "execution_count": 10,
   "metadata": {},
   "outputs": [
    {
     "name": "stdout",
     "output_type": "stream",
     "text": [
      "Collecting pyqt5\n",
      "  Using cached PyQt5-5.15.6-cp36-abi3-win_amd64.whl (6.7 MB)\n",
      "Collecting lxml\n",
      "  Using cached lxml-4.7.1-cp38-cp38-win_amd64.whl (3.7 MB)\n",
      "Collecting PyQt5-sip<13,>=12.8\n",
      "  Using cached PyQt5_sip-12.9.0-cp38-cp38-win_amd64.whl (63 kB)\n",
      "Collecting PyQt5-Qt5>=5.15.2\n",
      "  Using cached PyQt5_Qt5-5.15.2-py3-none-win_amd64.whl (50.1 MB)\n",
      "Installing collected packages: PyQt5-sip, PyQt5-Qt5, pyqt5, lxml\n",
      "Successfully installed PyQt5-Qt5-5.15.2 PyQt5-sip-12.9.0 lxml-4.7.1 pyqt5-5.15.6\n"
     ]
    }
   ],
   "source": [
    "!pip install --upgrade pyqt5 lxml"
   ]
  },
  {
   "cell_type": "code",
   "execution_count": 11,
   "metadata": {},
   "outputs": [
    {
     "name": "stdout",
     "output_type": "stream",
     "text": [
      "Package           Version\n",
      "----------------- --------\n",
      "backcall          0.2.0\n",
      "colorama          0.4.4\n",
      "debugpy           1.5.1\n",
      "decorator         5.1.0\n",
      "entrypoints       0.3\n",
      "ipykernel         6.6.1\n",
      "ipython           7.31.0\n",
      "jedi              0.18.1\n",
      "jupyter-client    7.1.0\n",
      "jupyter-core      4.9.1\n",
      "lxml              4.7.1\n",
      "matplotlib-inline 0.1.3\n",
      "nest-asyncio      1.5.4\n",
      "numpy             1.22.0\n",
      "opencv-python     4.5.5.62\n",
      "parso             0.8.3\n",
      "pickleshare       0.7.5\n",
      "pip               21.3.1\n",
      "prompt-toolkit    3.0.24\n",
      "Pygments          2.11.2\n",
      "PyQt5             5.15.6\n",
      "PyQt5-Qt5         5.15.2\n",
      "PyQt5-sip         12.9.0\n",
      "python-dateutil   2.8.2\n",
      "pywin32           303\n",
      "pyzmq             22.3.0\n",
      "setuptools        49.2.1\n",
      "six               1.16.0\n",
      "tornado           6.1\n",
      "traitlets         5.1.1\n",
      "wcwidth           0.2.5\n"
     ]
    }
   ],
   "source": [
    "!pip list"
   ]
  },
  {
   "cell_type": "code",
   "execution_count": 12,
   "metadata": {},
   "outputs": [],
   "source": [
    "LABELIMG_PATH = os.path.join('Tensorflow', 'labelimg')"
   ]
  },
  {
   "cell_type": "code",
   "execution_count": 13,
   "metadata": {},
   "outputs": [
    {
     "name": "stderr",
     "output_type": "stream",
     "text": [
      "Cloning into 'Tensorflow\\labelimg'...\n",
      "Updating files:  21% (23/107)\n",
      "Updating files:  22% (24/107)\n",
      "Updating files:  23% (25/107)\n",
      "Updating files:  24% (26/107)\n",
      "Updating files:  25% (27/107)\n",
      "Updating files:  26% (28/107)\n",
      "Updating files:  27% (29/107)\n",
      "Updating files:  28% (30/107)\n",
      "Updating files:  29% (32/107)\n",
      "Updating files:  30% (33/107)\n",
      "Updating files:  31% (34/107)\n",
      "Updating files:  32% (35/107)\n",
      "Updating files:  33% (36/107)\n",
      "Updating files:  34% (37/107)\n",
      "Updating files:  35% (38/107)\n",
      "Updating files:  36% (39/107)\n",
      "Updating files:  37% (40/107)\n",
      "Updating files:  38% (41/107)\n",
      "Updating files:  39% (42/107)\n",
      "Updating files:  40% (43/107)\n",
      "Updating files:  41% (44/107)\n",
      "Updating files:  42% (45/107)\n",
      "Updating files:  43% (47/107)\n",
      "Updating files:  44% (48/107)\n",
      "Updating files:  45% (49/107)\n",
      "Updating files:  46% (50/107)\n",
      "Updating files:  47% (51/107)\n",
      "Updating files:  48% (52/107)\n",
      "Updating files:  49% (53/107)\n",
      "Updating files:  50% (54/107)\n",
      "Updating files:  51% (55/107)\n",
      "Updating files:  52% (56/107)\n",
      "Updating files:  53% (57/107)\n",
      "Updating files:  54% (58/107)\n",
      "Updating files:  55% (59/107)\n",
      "Updating files:  56% (60/107)\n",
      "Updating files:  57% (61/107)\n",
      "Updating files:  58% (63/107)\n",
      "Updating files:  59% (64/107)\n",
      "Updating files:  60% (65/107)\n",
      "Updating files:  61% (66/107)\n",
      "Updating files:  62% (67/107)\n",
      "Updating files:  63% (68/107)\n",
      "Updating files:  64% (69/107)\n",
      "Updating files:  65% (70/107)\n",
      "Updating files:  66% (71/107)\n",
      "Updating files:  67% (72/107)\n",
      "Updating files:  68% (73/107)\n",
      "Updating files:  69% (74/107)\n",
      "Updating files:  70% (75/107)\n",
      "Updating files:  71% (76/107)\n",
      "Updating files:  72% (78/107)\n",
      "Updating files:  73% (79/107)\n",
      "Updating files:  74% (80/107)\n",
      "Updating files:  75% (81/107)\n",
      "Updating files:  76% (82/107)\n",
      "Updating files:  77% (83/107)\n",
      "Updating files:  78% (84/107)\n",
      "Updating files:  79% (85/107)\n",
      "Updating files:  80% (86/107)\n",
      "Updating files:  81% (87/107)\n",
      "Updating files:  82% (88/107)\n",
      "Updating files:  83% (89/107)\n",
      "Updating files:  84% (90/107)\n",
      "Updating files:  85% (91/107)\n",
      "Updating files:  86% (93/107)\n",
      "Updating files:  87% (94/107)\n",
      "Updating files:  88% (95/107)\n",
      "Updating files:  89% (96/107)\n",
      "Updating files:  90% (97/107)\n",
      "Updating files:  91% (98/107)\n",
      "Updating files:  92% (99/107)\n",
      "Updating files:  93% (100/107)\n",
      "Updating files:  94% (101/107)\n",
      "Updating files:  95% (102/107)\n",
      "Updating files:  96% (103/107)\n",
      "Updating files:  97% (104/107)\n",
      "Updating files:  98% (105/107)\n",
      "Updating files:  99% (106/107)\n",
      "Updating files: 100% (107/107)\n",
      "Updating files: 100% (107/107), done.\n"
     ]
    }
   ],
   "source": [
    "if not os.path.exists(LABELIMG_PATH):\n",
    "    !mkdir {LABELIMG_PATH}\n",
    "    !git clone https://github.com/tzutalin/labelImg {LABELIMG_PATH}"
   ]
  },
  {
   "cell_type": "code",
   "execution_count": 14,
   "metadata": {},
   "outputs": [],
   "source": [
    "if os.name == 'posix':\n",
    "    !make qt5py3\n",
    "if os.name =='nt':\n",
    "    !cd {LABELIMG_PATH} && pyrcc5 -o libs/resources.py resources.qrc"
   ]
  },
  {
   "cell_type": "code",
   "execution_count": 15,
   "metadata": {},
   "outputs": [
    {
     "name": "stdout",
     "output_type": "stream",
     "text": [
      "Image:C:\\Users\\ahmed\\Python-21\\Projekt-Face Recognition\\Tensorflow Object detection-V1\\TFODCourse\\Tensorflow\\workspace\\images\\collectedimages\\Forward\\Forward.c8e94f47-6ef9-11ec-aac8-9828a60878de.jpg -> Annotation:C:/Users/ahmed/Python-21/Projekt-Face Recognition/Tensorflow Object detection-V1/TFODCourse/Tensorflow/workspace/images/collectedimages/Forward/Forward.c8e94f47-6ef9-11ec-aac8-9828a60878de.xml\n",
      "Image:C:\\Users\\ahmed\\Python-21\\Projekt-Face Recognition\\Tensorflow Object detection-V1\\TFODCourse\\Tensorflow\\workspace\\images\\collectedimages\\Forward\\Forward.ca251460-6ef9-11ec-bebc-9828a60878de.jpg -> Annotation:C:/Users/ahmed/Python-21/Projekt-Face Recognition/Tensorflow Object detection-V1/TFODCourse/Tensorflow/workspace/images/collectedimages/Forward/Forward.ca251460-6ef9-11ec-bebc-9828a60878de.xml\n",
      "Image:C:\\Users\\ahmed\\Python-21\\Projekt-Face Recognition\\Tensorflow Object detection-V1\\TFODCourse\\Tensorflow\\workspace\\images\\collectedimages\\Forward\\Forward.cb5ac945-6ef9-11ec-8b16-9828a60878de.jpg -> Annotation:C:/Users/ahmed/Python-21/Projekt-Face Recognition/Tensorflow Object detection-V1/TFODCourse/Tensorflow/workspace/images/collectedimages/Forward/Forward.cb5ac945-6ef9-11ec-8b16-9828a60878de.xml\n",
      "Image:C:\\Users\\ahmed\\Python-21\\Projekt-Face Recognition\\Tensorflow Object detection-V1\\TFODCourse\\Tensorflow\\workspace\\images\\collectedimages\\Forward\\Forward.cc8e3123-6ef9-11ec-aa9b-9828a60878de.jpg -> Annotation:C:/Users/ahmed/Python-21/Projekt-Face Recognition/Tensorflow Object detection-V1/TFODCourse/Tensorflow/workspace/images/collectedimages/Forward/Forward.cc8e3123-6ef9-11ec-aa9b-9828a60878de.xml\n",
      "Image:C:\\Users\\ahmed\\Python-21\\Projekt-Face Recognition\\Tensorflow Object detection-V1\\TFODCourse\\Tensorflow\\workspace\\images\\collectedimages\\Forward\\Forward.cdc0e721-6ef9-11ec-9578-9828a60878de.jpg -> Annotation:C:/Users/ahmed/Python-21/Projekt-Face Recognition/Tensorflow Object detection-V1/TFODCourse/Tensorflow/workspace/images/collectedimages/Forward/Forward.cdc0e721-6ef9-11ec-9578-9828a60878de.xml\n",
      "Image:C:\\Users\\ahmed\\Python-21\\Projekt-Face Recognition\\Tensorflow Object detection-V1\\TFODCourse\\Tensorflow\\workspace\\images\\collectedimages\\Looking_Down\\Looking_Down.ef527a62-6ef9-11ec-947c-9828a60878de.jpg -> Annotation:C:/Users/ahmed/Python-21/Projekt-Face Recognition/Tensorflow Object detection-V1/TFODCourse/Tensorflow/workspace/images/collectedimages/Looking_Down/Looking_Down.ef527a62-6ef9-11ec-947c-9828a60878de.xml\n",
      "Image:C:\\Users\\ahmed\\Python-21\\Projekt-Face Recognition\\Tensorflow Object detection-V1\\TFODCourse\\Tensorflow\\workspace\\images\\collectedimages\\Looking_Down\\Looking_Down.f1bc7e7d-6ef9-11ec-a059-9828a60878de.jpg -> Annotation:C:/Users/ahmed/Python-21/Projekt-Face Recognition/Tensorflow Object detection-V1/TFODCourse/Tensorflow/workspace/images/collectedimages/Looking_Down/Looking_Down.f1bc7e7d-6ef9-11ec-a059-9828a60878de.xml\n",
      "Image:C:\\Users\\ahmed\\Python-21\\Projekt-Face Recognition\\Tensorflow Object detection-V1\\TFODCourse\\Tensorflow\\workspace\\images\\collectedimages\\Looking_Down\\Looking_Down.f2f11bf5-6ef9-11ec-b844-9828a60878de.jpg -> Annotation:C:/Users/ahmed/Python-21/Projekt-Face Recognition/Tensorflow Object detection-V1/TFODCourse/Tensorflow/workspace/images/collectedimages/Looking_Down/Looking_Down.f2f11bf5-6ef9-11ec-b844-9828a60878de.xml\n",
      "Image:C:\\Users\\ahmed\\Python-21\\Projekt-Face Recognition\\Tensorflow Object detection-V1\\TFODCourse\\Tensorflow\\workspace\\images\\collectedimages\\Looking_Down\\Looking_Down.f086cc20-6ef9-11ec-8b08-9828a60878de.jpg -> Annotation:C:/Users/ahmed/Python-21/Projekt-Face Recognition/Tensorflow Object detection-V1/TFODCourse/Tensorflow/workspace/images/collectedimages/Looking_Down/Looking_Down.f086cc20-6ef9-11ec-8b08-9828a60878de.xml\n",
      "Image:C:\\Users\\ahmed\\Python-21\\Projekt-Face Recognition\\Tensorflow Object detection-V1\\TFODCourse\\Tensorflow\\workspace\\images\\collectedimages\\Looking_Down\\Looking_Down.f426095f-6ef9-11ec-a130-9828a60878de.jpg -> Annotation:C:/Users/ahmed/Python-21/Projekt-Face Recognition/Tensorflow Object detection-V1/TFODCourse/Tensorflow/workspace/images/collectedimages/Looking_Down/Looking_Down.f426095f-6ef9-11ec-a130-9828a60878de.xml\n",
      "Image:C:\\Users\\ahmed\\Python-21\\Projekt-Face Recognition\\Tensorflow Object detection-V1\\TFODCourse\\Tensorflow\\workspace\\images\\collectedimages\\Looking_Left\\Looking_Left.d3b70276-6ef9-11ec-ac92-9828a60878de.jpg -> Annotation:C:/Users/ahmed/Python-21/Projekt-Face Recognition/Tensorflow Object detection-V1/TFODCourse/Tensorflow/workspace/images/collectedimages/Looking_Left/Looking_Left.d3b70276-6ef9-11ec-ac92-9828a60878de.xml\n",
      "Image:C:\\Users\\ahmed\\Python-21\\Projekt-Face Recognition\\Tensorflow Object detection-V1\\TFODCourse\\Tensorflow\\workspace\\images\\collectedimages\\Looking_Left\\Looking_Left.d4eb0624-6ef9-11ec-b1c4-9828a60878de.jpg -> Annotation:C:/Users/ahmed/Python-21/Projekt-Face Recognition/Tensorflow Object detection-V1/TFODCourse/Tensorflow/workspace/images/collectedimages/Looking_Left/Looking_Left.d4eb0624-6ef9-11ec-b1c4-9828a60878de.xml\n",
      "Image:C:\\Users\\ahmed\\Python-21\\Projekt-Face Recognition\\Tensorflow Object detection-V1\\TFODCourse\\Tensorflow\\workspace\\images\\collectedimages\\Looking_Left\\Looking_Left.d61e2cd9-6ef9-11ec-8c90-9828a60878de.jpg -> Annotation:C:/Users/ahmed/Python-21/Projekt-Face Recognition/Tensorflow Object detection-V1/TFODCourse/Tensorflow/workspace/images/collectedimages/Looking_Left/Looking_Left.d61e2cd9-6ef9-11ec-8c90-9828a60878de.xml\n",
      "Image:C:\\Users\\ahmed\\Python-21\\Projekt-Face Recognition\\Tensorflow Object detection-V1\\TFODCourse\\Tensorflow\\workspace\\images\\collectedimages\\Looking_Left\\Looking_Left.d7516dc3-6ef9-11ec-9222-9828a60878de.jpg -> Annotation:C:/Users/ahmed/Python-21/Projekt-Face Recognition/Tensorflow Object detection-V1/TFODCourse/Tensorflow/workspace/images/collectedimages/Looking_Left/Looking_Left.d7516dc3-6ef9-11ec-9222-9828a60878de.xml\n",
      "Image:C:\\Users\\ahmed\\Python-21\\Projekt-Face Recognition\\Tensorflow Object detection-V1\\TFODCourse\\Tensorflow\\workspace\\images\\collectedimages\\Looking_Left\\Looking_Left.d28289c5-6ef9-11ec-943e-9828a60878de.jpg -> Annotation:C:/Users/ahmed/Python-21/Projekt-Face Recognition/Tensorflow Object detection-V1/TFODCourse/Tensorflow/workspace/images/collectedimages/Looking_Left/Looking_Left.d28289c5-6ef9-11ec-943e-9828a60878de.xml\n",
      "Image:C:\\Users\\ahmed\\Python-21\\Projekt-Face Recognition\\Tensorflow Object detection-V1\\TFODCourse\\Tensorflow\\workspace\\images\\collectedimages\\Looking_Right\\Looking_Right.dc22e30b-6ef9-11ec-90eb-9828a60878de.jpg -> Annotation:C:/Users/ahmed/Python-21/Projekt-Face Recognition/Tensorflow Object detection-V1/TFODCourse/Tensorflow/workspace/images/collectedimages/Looking_Right/Looking_Right.dc22e30b-6ef9-11ec-90eb-9828a60878de.xml\n",
      "Image:C:\\Users\\ahmed\\Python-21\\Projekt-Face Recognition\\Tensorflow Object detection-V1\\TFODCourse\\Tensorflow\\workspace\\images\\collectedimages\\Looking_Right\\Looking_Right.dd5803a5-6ef9-11ec-b310-9828a60878de.jpg -> Annotation:C:/Users/ahmed/Python-21/Projekt-Face Recognition/Tensorflow Object detection-V1/TFODCourse/Tensorflow/workspace/images/collectedimages/Looking_Right/Looking_Right.dd5803a5-6ef9-11ec-b310-9828a60878de.xml\n",
      "Image:C:\\Users\\ahmed\\Python-21\\Projekt-Face Recognition\\Tensorflow Object detection-V1\\TFODCourse\\Tensorflow\\workspace\\images\\collectedimages\\Looking_Right\\Looking_Right.de8be1da-6ef9-11ec-9f28-9828a60878de.jpg -> Annotation:C:/Users/ahmed/Python-21/Projekt-Face Recognition/Tensorflow Object detection-V1/TFODCourse/Tensorflow/workspace/images/collectedimages/Looking_Right/Looking_Right.de8be1da-6ef9-11ec-9f28-9828a60878de.xml\n",
      "Image:C:\\Users\\ahmed\\Python-21\\Projekt-Face Recognition\\Tensorflow Object detection-V1\\TFODCourse\\Tensorflow\\workspace\\images\\collectedimages\\Looking_Right\\Looking_Right.dfbeff46-6ef9-11ec-b06d-9828a60878de.jpg -> Annotation:C:/Users/ahmed/Python-21/Projekt-Face Recognition/Tensorflow Object detection-V1/TFODCourse/Tensorflow/workspace/images/collectedimages/Looking_Right/Looking_Right.dfbeff46-6ef9-11ec-b06d-9828a60878de.xml\n",
      "Image:C:\\Users\\ahmed\\Python-21\\Projekt-Face Recognition\\Tensorflow Object detection-V1\\TFODCourse\\Tensorflow\\workspace\\images\\collectedimages\\Looking_Right\\Looking_Right.e0f3eaa4-6ef9-11ec-a350-9828a60878de.jpg -> Annotation:C:/Users/ahmed/Python-21/Projekt-Face Recognition/Tensorflow Object detection-V1/TFODCourse/Tensorflow/workspace/images/collectedimages/Looking_Right/Looking_Right.e0f3eaa4-6ef9-11ec-a350-9828a60878de.xml\n",
      "Image:C:\\Users\\ahmed\\Python-21\\Projekt-Face Recognition\\Tensorflow Object detection-V1\\TFODCourse\\Tensorflow\\workspace\\images\\collectedimages\\Looking_Up\\Looking_Up.e5bcd28b-6ef9-11ec-b5ac-9828a60878de.jpg -> Annotation:C:/Users/ahmed/Python-21/Projekt-Face Recognition/Tensorflow Object detection-V1/TFODCourse/Tensorflow/workspace/images/collectedimages/Looking_Up/Looking_Up.e5bcd28b-6ef9-11ec-b5ac-9828a60878de.xml\n",
      "Image:C:\\Users\\ahmed\\Python-21\\Projekt-Face Recognition\\Tensorflow Object detection-V1\\TFODCourse\\Tensorflow\\workspace\\images\\collectedimages\\Looking_Up\\Looking_Up.e6f12423-6ef9-11ec-a485-9828a60878de.jpg -> Annotation:C:/Users/ahmed/Python-21/Projekt-Face Recognition/Tensorflow Object detection-V1/TFODCourse/Tensorflow/workspace/images/collectedimages/Looking_Up/Looking_Up.e6f12423-6ef9-11ec-a485-9828a60878de.xml\n",
      "Image:C:\\Users\\ahmed\\Python-21\\Projekt-Face Recognition\\Tensorflow Object detection-V1\\TFODCourse\\Tensorflow\\workspace\\images\\collectedimages\\Looking_Up\\Looking_Up.e95a95f0-6ef9-11ec-b319-9828a60878de.jpg -> Annotation:C:/Users/ahmed/Python-21/Projekt-Face Recognition/Tensorflow Object detection-V1/TFODCourse/Tensorflow/workspace/images/collectedimages/Looking_Up/Looking_Up.e95a95f0-6ef9-11ec-b319-9828a60878de.xml\n",
      "Image:C:\\Users\\ahmed\\Python-21\\Projekt-Face Recognition\\Tensorflow Object detection-V1\\TFODCourse\\Tensorflow\\workspace\\images\\collectedimages\\Looking_Up\\Looking_Up.e8255906-6ef9-11ec-b56f-9828a60878de.jpg -> Annotation:C:/Users/ahmed/Python-21/Projekt-Face Recognition/Tensorflow Object detection-V1/TFODCourse/Tensorflow/workspace/images/collectedimages/Looking_Up/Looking_Up.e8255906-6ef9-11ec-b56f-9828a60878de.xml\n",
      "Image:C:\\Users\\ahmed\\Python-21\\Projekt-Face Recognition\\Tensorflow Object detection-V1\\TFODCourse\\Tensorflow\\workspace\\images\\collectedimages\\Looking_Up\\Looking_Up.ea8d6078-6ef9-11ec-a104-9828a60878de.jpg -> Annotation:C:/Users/ahmed/Python-21/Projekt-Face Recognition/Tensorflow Object detection-V1/TFODCourse/Tensorflow/workspace/images/collectedimages/Looking_Up/Looking_Up.ea8d6078-6ef9-11ec-a104-9828a60878de.xml\n"
     ]
    }
   ],
   "source": [
    "!cd {LABELIMG_PATH} && python labelImg.py"
   ]
  },
  {
   "cell_type": "markdown",
   "metadata": {},
   "source": [
    "# 6. Move them into a Training and Testing Partition"
   ]
  },
  {
   "cell_type": "markdown",
   "metadata": {},
   "source": [
    "# OPTIONAL - 7. Compress them for Colab Training"
   ]
  },
  {
   "cell_type": "code",
   "execution_count": 20,
   "metadata": {},
   "outputs": [],
   "source": [
    "TRAIN_PATH = os.path.join('Tensorflow', 'workspace', 'images', 'train')\n",
    "TEST_PATH = os.path.join('Tensorflow', 'workspace', 'images', 'test')\n",
    "ARCHIVE_PATH = os.path.join('Tensorflow', 'workspace', 'images', 'archive.tar.gz')"
   ]
  },
  {
   "cell_type": "code",
   "execution_count": 21,
   "metadata": {},
   "outputs": [],
   "source": [
    "!tar -czf {ARCHIVE_PATH} {TRAIN_PATH} {TEST_PATH}"
   ]
  },
  {
   "cell_type": "code",
   "execution_count": null,
   "metadata": {},
   "outputs": [],
   "source": []
  }
 ],
 "metadata": {
  "kernelspec": {
   "display_name": "tfodj",
   "language": "python",
   "name": "tfodj"
  },
  "language_info": {
   "codemirror_mode": {
    "name": "ipython",
    "version": 3
   },
   "file_extension": ".py",
   "mimetype": "text/x-python",
   "name": "python",
   "nbconvert_exporter": "python",
   "pygments_lexer": "ipython3",
   "version": "3.8.8"
  }
 },
 "nbformat": 4,
 "nbformat_minor": 2
}
